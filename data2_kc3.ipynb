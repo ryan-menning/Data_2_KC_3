{
 "cells": [
  {
   "cell_type": "code",
   "execution_count": 2,
   "metadata": {},
   "outputs": [],
   "source": [
    "import pandas as pd"
   ]
  },
  {
   "cell_type": "code",
   "execution_count": 5,
   "metadata": {},
   "outputs": [],
   "source": [
    "citations_df = pd.read_csv(\"Parking_Citations.csv\")\n",
    "codes_df = pd.read_csv(\"Violation_Codes.csv\")"
   ]
  },
  {
   "cell_type": "code",
   "execution_count": 12,
   "metadata": {},
   "outputs": [
    {
     "name": "stdout",
     "output_type": "stream",
     "text": [
      "Index(['Code', 'Description', 'Dollar Fine'], dtype='object')\n"
     ]
    },
    {
     "data": {
      "text/plain": [
       "Index(['Cite Number', 'Issue Date', 'Violat', 'Sublocatio', 'Street',\n",
       "       'Meter #', 'Is Wa', 'Due'],\n",
       "      dtype='object')"
      ]
     },
     "execution_count": 12,
     "metadata": {},
     "output_type": "execute_result"
    }
   ],
   "source": [
    "print(codes_df.columns)\n",
    "citations_df.columns\n"
   ]
  },
  {
   "cell_type": "code",
   "execution_count": 20,
   "metadata": {},
   "outputs": [],
   "source": [
    "new_df = citations_df.merge(codes_df,how='left',left_on='Violat',right_on='Code')"
   ]
  },
  {
   "cell_type": "code",
   "execution_count": 21,
   "metadata": {},
   "outputs": [
    {
     "data": {
      "text/html": [
       "<div>\n",
       "<style scoped>\n",
       "    .dataframe tbody tr th:only-of-type {\n",
       "        vertical-align: middle;\n",
       "    }\n",
       "\n",
       "    .dataframe tbody tr th {\n",
       "        vertical-align: top;\n",
       "    }\n",
       "\n",
       "    .dataframe thead th {\n",
       "        text-align: right;\n",
       "    }\n",
       "</style>\n",
       "<table border=\"1\" class=\"dataframe\">\n",
       "  <thead>\n",
       "    <tr style=\"text-align: right;\">\n",
       "      <th></th>\n",
       "      <th>Cite Number</th>\n",
       "      <th>Issue Date</th>\n",
       "      <th>Violat</th>\n",
       "      <th>Sublocatio</th>\n",
       "      <th>Street</th>\n",
       "      <th>Meter #</th>\n",
       "      <th>Is Wa</th>\n",
       "      <th>Due</th>\n",
       "      <th>Code</th>\n",
       "      <th>Description</th>\n",
       "      <th>Dollar Fine</th>\n",
       "    </tr>\n",
       "  </thead>\n",
       "  <tbody>\n",
       "    <tr>\n",
       "      <th>0</th>\n",
       "      <td>M201507360</td>\n",
       "      <td>02/16/2018</td>\n",
       "      <td>PSW</td>\n",
       "      <td>700</td>\n",
       "      <td>YORK ST</td>\n",
       "      <td>NaN</td>\n",
       "      <td>NO</td>\n",
       "      <td>0.0</td>\n",
       "      <td>PSW</td>\n",
       "      <td>72.035(C)NO PARK SIDEWALK</td>\n",
       "      <td>15.0</td>\n",
       "    </tr>\n",
       "    <tr>\n",
       "      <th>1</th>\n",
       "      <td>M201306003</td>\n",
       "      <td>01/05/2018</td>\n",
       "      <td>HO</td>\n",
       "      <td>100S</td>\n",
       "      <td>1ST ST</td>\n",
       "      <td>NaN</td>\n",
       "      <td>NO</td>\n",
       "      <td>0.0</td>\n",
       "      <td>NaN</td>\n",
       "      <td>NaN</td>\n",
       "      <td>NaN</td>\n",
       "    </tr>\n",
       "    <tr>\n",
       "      <th>2</th>\n",
       "      <td>M202705546</td>\n",
       "      <td>01/18/2018</td>\n",
       "      <td>X</td>\n",
       "      <td>N200</td>\n",
       "      <td>1ST ST</td>\n",
       "      <td>3012</td>\n",
       "      <td>NO</td>\n",
       "      <td>0.0</td>\n",
       "      <td>X</td>\n",
       "      <td>72.083(A)EXPIRED METER</td>\n",
       "      <td>15.0</td>\n",
       "    </tr>\n",
       "    <tr>\n",
       "      <th>3</th>\n",
       "      <td>M202802800</td>\n",
       "      <td>01/10/2018</td>\n",
       "      <td>NPP</td>\n",
       "      <td>500W</td>\n",
       "      <td>LIBERTY ST</td>\n",
       "      <td>NaN</td>\n",
       "      <td>NO</td>\n",
       "      <td>0.0</td>\n",
       "      <td>NPP</td>\n",
       "      <td>72.038(B)(7)NO STOP/PEAK PERIOD</td>\n",
       "      <td>15.0</td>\n",
       "    </tr>\n",
       "    <tr>\n",
       "      <th>4</th>\n",
       "      <td>M200208507</td>\n",
       "      <td>02/23/2018</td>\n",
       "      <td>NP</td>\n",
       "      <td>200E</td>\n",
       "      <td>CHESTNUT ST</td>\n",
       "      <td>NaN</td>\n",
       "      <td>NO</td>\n",
       "      <td>0.0</td>\n",
       "      <td>NP</td>\n",
       "      <td>72.035 NO PARKING</td>\n",
       "      <td>15.0</td>\n",
       "    </tr>\n",
       "  </tbody>\n",
       "</table>\n",
       "</div>"
      ],
      "text/plain": [
       "  Cite Number  Issue Date Violat Sublocatio       Street Meter # Is Wa  Due  \\\n",
       "0  M201507360  02/16/2018    PSW        700      YORK ST     NaN    NO  0.0   \n",
       "1  M201306003  01/05/2018     HO       100S       1ST ST     NaN    NO  0.0   \n",
       "2  M202705546  01/18/2018      X       N200       1ST ST    3012    NO  0.0   \n",
       "3  M202802800  01/10/2018    NPP       500W   LIBERTY ST     NaN    NO  0.0   \n",
       "4  M200208507  02/23/2018     NP       200E  CHESTNUT ST     NaN    NO  0.0   \n",
       "\n",
       "  Code                      Description  Dollar Fine  \n",
       "0  PSW        72.035(C)NO PARK SIDEWALK         15.0  \n",
       "1  NaN                              NaN          NaN  \n",
       "2    X           72.083(A)EXPIRED METER         15.0  \n",
       "3  NPP  72.038(B)(7)NO STOP/PEAK PERIOD         15.0  \n",
       "4   NP                72.035 NO PARKING         15.0  "
      ]
     },
     "execution_count": 21,
     "metadata": {},
     "output_type": "execute_result"
    }
   ],
   "source": [
    "new_df.head()"
   ]
  },
  {
   "cell_type": "code",
   "execution_count": null,
   "metadata": {},
   "outputs": [],
   "source": []
  }
 ],
 "metadata": {
  "kernelspec": {
   "display_name": "Python 3.7.4 ('prog_env')",
   "language": "python",
   "name": "python3"
  },
  "language_info": {
   "codemirror_mode": {
    "name": "ipython",
    "version": 3
   },
   "file_extension": ".py",
   "mimetype": "text/x-python",
   "name": "python",
   "nbconvert_exporter": "python",
   "pygments_lexer": "ipython3",
   "version": "3.10.0"
  },
  "orig_nbformat": 4,
  "vscode": {
   "interpreter": {
    "hash": "21171183c75e2ddbcf5a5174ba508347770e3d7b869d73ea0b980d850a96140e"
   }
  }
 },
 "nbformat": 4,
 "nbformat_minor": 2
}
